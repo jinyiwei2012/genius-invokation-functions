{
 "cells": [
  {
   "attachments": {},
   "cell_type": "markdown",
   "metadata": {},
   "source": [
    "# genius-invokation-functions\n",
    "【实验室】七圣召唤相关函数\n"
   ]
  },
  {
   "cell_type": "code",
   "execution_count": 1,
   "metadata": {},
   "outputs": [],
   "source": [
    "# 骰子相关函数\n",
    "import random\n",
    "\n",
    "dice_types = ['火', '风', '水', '岩', '草', '冰', '雷', '万能']\n",
    "\n",
    "\n",
    "class Dice(object):\n",
    "\n",
    "    def __init__(self) -> None:\n",
    "        self.dices = []\n",
    "\n",
    "    def init(self, amount: int = 8) -> list:\n",
    "        current = 0\n",
    "        while current < amount:\n",
    "            self.dices.append(random.choice(dice_types))\n",
    "            current += 1\n",
    "\n",
    "        return self.dices\n",
    "\n",
    "    def change(self, *args: list) -> None:\n",
    "        for single in args:\n",
    "            self.dices[single] = random.choice(dice_types)\n",
    "\n",
    "    def autochange(self, keep: list = ['万能']) -> None:\n",
    "        # 一种自动重投的设想\n",
    "\n",
    "        # 通过求差集以重投非保留骰子\n",
    "        for each in (set(dice_types) - set(keep)):\n",
    "            try:\n",
    "                self.dices.remove(each)\n",
    "            except ValueError:  # 当发生不存在的骰子时自动跳过\n",
    "                pass\n",
    "\n",
    "        # 并且计算剩余后重投\n",
    "        self.init(8 - len(self.dices))\n",
    "        pass\n",
    "    def reset(self):\n",
    "        self.dices = []\n",
    "\n",
    "    def parse(self) -> list:\n",
    "        return self.dices\n",
    "\n"
   ]
  },
  {
   "cell_type": "code",
   "execution_count": 2,
   "metadata": {},
   "outputs": [
    {
     "name": "stdout",
     "output_type": "stream",
     "text": [
      "<__main__.Dice object at 0x000001AD433C9E20>\n"
     ]
    }
   ],
   "source": [
    "# 初始化类\n",
    "dice = Dice()\n",
    "\n",
    "print(dice)"
   ]
  },
  {
   "cell_type": "code",
   "execution_count": 3,
   "metadata": {},
   "outputs": [
    {
     "name": "stdout",
     "output_type": "stream",
     "text": [
      "['风', '水', '雷', '岩', '冰', '冰', '风', '万能']\n",
      "['风', '水', '雷', '岩', '万能', '火', '水', '冰']\n"
     ]
    }
   ],
   "source": [
    "# 初始化8个骰子\n",
    "print(dice.init())\n",
    "# 假设不需要后4个，进行重投\n",
    "dice.change(4, 5, 6, 7)\n",
    "# 粘贴结果\n",
    "print(dice.parse())\n"
   ]
  },
  {
   "cell_type": "code",
   "execution_count": 4,
   "metadata": {},
   "outputs": [
    {
     "name": "stdout",
     "output_type": "stream",
     "text": [
      "['水', '火', '冰', '水', '草', '雷', '岩', '雷']\n",
      "['水', '草', '雷', '火', '雷', '火', '雷', '万能']\n"
     ]
    }
   ],
   "source": [
    "# 重置后模拟第二种情况\n",
    "dice.reset()\n",
    "# 先进行一次投掷\n",
    "print(dice.init())\n",
    "# 假设这里需要保留草元素以及万能元素\n",
    "dice.autochange(['万能', '草'])\n",
    "print(dice.parse())"
   ]
  }
 ],
 "metadata": {
  "kernelspec": {
   "display_name": "Python 3",
   "language": "python",
   "name": "python3"
  },
  "language_info": {
   "codemirror_mode": {
    "name": "ipython",
    "version": 3
   },
   "file_extension": ".py",
   "mimetype": "text/x-python",
   "name": "python",
   "nbconvert_exporter": "python",
   "pygments_lexer": "ipython3",
   "version": "3.9.13"
  },
  "orig_nbformat": 4,
  "vscode": {
   "interpreter": {
    "hash": "ae021afcbd9d389278a17b623fffd59f018f0b51c706cbee63b7e8f1ecbdf558"
   }
  }
 },
 "nbformat": 4,
 "nbformat_minor": 2
}
